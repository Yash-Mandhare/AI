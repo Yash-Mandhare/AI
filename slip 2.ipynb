{
 "cells": [
  {
   "cell_type": "code",
   "execution_count": 1,
   "id": "aea4b127",
   "metadata": {},
   "outputs": [
    {
     "name": "stdout",
     "output_type": "stream",
     "text": [
      "Enter year: 2003\n",
      "Enter month (1-12): 10\n",
      "\n",
      "Calendar for October 2003:\n",
      "\n",
      "    October 2003\n",
      "Su Mo Tu We Th Fr Sa\n",
      "          1  2  3  4\n",
      " 5  6  7  8  9 10 11\n",
      "12 13 14 15 16 17 18\n",
      "19 20 21 22 23 24 25\n",
      "26 27 28 29 30 31\n",
      "\n"
     ]
    }
   ],
   "source": [
    "# Write a python program to generate Calendar for the given month and year?.\n",
    "\n",
    "import calendar\n",
    "\n",
    "def generate_calendar(year, month):\n",
    "    # Create a calendar object\n",
    "    cal = calendar.TextCalendar(calendar.SUNDAY)\n",
    "    \n",
    "    # Generate the calendar for the given month and year\n",
    "    month_calendar = cal.formatmonth(year, month)\n",
    "    \n",
    "    return month_calendar\n",
    "\n",
    "# Input: year and month\n",
    "year = int(input(\"Enter year: \"))\n",
    "month = int(input(\"Enter month (1-12): \"))\n",
    "\n",
    "# Generate and print the calendar\n",
    "print(f\"\\nCalendar for {calendar.month_name[month]} {year}:\\n\")\n",
    "print(generate_calendar(year, month))\n"
   ]
  },
  {
   "cell_type": "code",
   "execution_count": 5,
   "id": "62743b9c",
   "metadata": {},
   "outputs": [
    {
     "name": "stdout",
     "output_type": "stream",
     "text": [
      "Visited: 1\n",
      "Visited: 2\n",
      "Visited: 4\n",
      "Visited: 5\n",
      "Visited: 3\n",
      "Visited: 7\n",
      "\n",
      "DFS path to reach node 7: [1, 2, 4, 5, 7]\n"
     ]
    }
   ],
   "source": [
    "# Write a Python program to implement Depth First Search algorithm. Refer the following graph\n",
    "# as an Input for the program.[Initial node=1,Goal node=7].\n",
    "\n",
    "# Depth First Search (DFS) implementation\n",
    "def dfs(graph, start, goal, visited=None, path=None):\n",
    "    if visited is None:\n",
    "        visited = set()  # Set to keep track of visited nodes\n",
    "    if path is None:\n",
    "        path = []  # List to maintain the path\n",
    "    \n",
    "    visited.add(start)\n",
    "    path.append(start)\n",
    "\n",
    "    print(f\"Visited: {start}\")\n",
    "\n",
    "    # If goal is reached, return the current path\n",
    "    if start == goal:\n",
    "        return path\n",
    "\n",
    "    # Recur for all the vertices adjacent to this vertex\n",
    "    for neighbor in graph[start]:\n",
    "        if neighbor not in visited:\n",
    "            result = dfs(graph, neighbor, goal, visited, path)\n",
    "            if result:\n",
    "                return result\n",
    "\n",
    "    # If no path found, backtrack\n",
    "    path.pop()\n",
    "    return None\n",
    "\n",
    "# Graph input using adjacency list representation\n",
    "graph = {\n",
    "    1: [2, 3],\n",
    "    2: [4],\n",
    "    3: [2],\n",
    "    4: [5, 6],\n",
    "    5: [3, 7],\n",
    "    6: [],\n",
    "    7: [6],\n",
    "}\n",
    "\n",
    "# Input: Initial node (1), Goal node (8)\n",
    "start_node = 1\n",
    "goal_node = 7\n",
    "\n",
    "\n",
    "# Perform DFS\n",
    "dfs_path = dfs(graph, start_node, goal_node)\n",
    "\n",
    "print(f\"\\nDFS path to reach node {goal_node}: {dfs_path}\")\n",
    "\n"
   ]
  },
  {
   "cell_type": "code",
   "execution_count": null,
   "id": "9cd4ae36",
   "metadata": {},
   "outputs": [],
   "source": []
  }
 ],
 "metadata": {
  "kernelspec": {
   "display_name": "Python 3",
   "language": "python",
   "name": "python3"
  },
  "language_info": {
   "codemirror_mode": {
    "name": "ipython",
    "version": 3
   },
   "file_extension": ".py",
   "mimetype": "text/x-python",
   "name": "python",
   "nbconvert_exporter": "python",
   "pygments_lexer": "ipython3",
   "version": "3.12.4"
  }
 },
 "nbformat": 4,
 "nbformat_minor": 5
}
