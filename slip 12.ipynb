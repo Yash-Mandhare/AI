{
 "cells": [
  {
   "cell_type": "code",
   "execution_count": 1,
   "metadata": {},
   "outputs": [
    {
     "name": "stdout",
     "output_type": "stream",
     "text": [
      "\n",
      "Calendar for October 2024:\n",
      "\n",
      "    October 2024\n",
      "Su Mo Tu We Th Fr Sa\n",
      "       1  2  3  4  5\n",
      " 6  7  8  9 10 11 12\n",
      "13 14 15 16 17 18 19\n",
      "20 21 22 23 24 25 26\n",
      "27 28 29 30 31\n",
      "\n"
     ]
    }
   ],
   "source": [
    "# Write a python program to generate Calendar for the given month and year?.\n",
    "\n",
    "import calendar\n",
    "\n",
    "def generate_calendar(year, month):\n",
    "    # Create a calendar object\n",
    "    cal = calendar.TextCalendar(calendar.SUNDAY)\n",
    "    \n",
    "    # Generate the calendar for the given month and year\n",
    "    month_calendar = cal.formatmonth(year, month)\n",
    "    \n",
    "    return month_calendar\n",
    "\n",
    "# Input: year and month\n",
    "year = int(input(\"Enter year: \"))\n",
    "month = int(input(\"Enter month (1-12): \"))\n",
    "\n",
    "# Generate and print the calendar\n",
    "print(f\"\\nCalendar for {calendar.month_name[month]} {year}:\\n\")\n",
    "print(generate_calendar(year, month))\n"
   ]
  },
  {
   "cell_type": "code",
   "execution_count": 2,
   "metadata": {},
   "outputs": [
    {
     "name": "stdout",
     "output_type": "stream",
     "text": [
      "Solutions for 4-Queens Problem:\n",
      ". Q . .\n",
      ". . . Q\n",
      "Q . . .\n",
      ". . Q .\n",
      "\n",
      ". . Q .\n",
      "Q . . .\n",
      ". . . Q\n",
      ". Q . .\n",
      "\n"
     ]
    }
   ],
   "source": [
    "# Write a Python program to simulate 4-Queens problem.\n",
    "\n",
    "def is_safe(board, row, col):\n",
    "    # Check this column on the upper side\n",
    "    for i in range(row):\n",
    "        if board[i][col] == 'Q':\n",
    "            return False\n",
    "\n",
    "    # Check the upper diagonal on the left side\n",
    "    for i, j in zip(range(row, -1, -1), range(col, -1, -1)):\n",
    "        if j < 0: break  # Prevent going out of bounds\n",
    "        if board[i][j] == 'Q':\n",
    "            return False\n",
    "\n",
    "    # Check the upper diagonal on the right side\n",
    "    for i, j in zip(range(row, -1, -1), range(col, len(board))):\n",
    "        if j >= len(board): break  # Prevent going out of bounds\n",
    "        if board[i][j] == 'Q':\n",
    "            return False\n",
    "\n",
    "    return True\n",
    "\n",
    "def solve_n_queens_util(board, row):\n",
    "    if row >= len(board):\n",
    "        # All queens are placed, print the solution\n",
    "        print_board(board)\n",
    "        return\n",
    "\n",
    "    for col in range(len(board)):\n",
    "        if is_safe(board, row, col):\n",
    "            # Place the queen\n",
    "            board[row][col] = 'Q'\n",
    "            # Recur to place the rest of the queens\n",
    "            solve_n_queens_util(board, row + 1)\n",
    "            # Backtrack by removing the queen\n",
    "            board[row][col] = '.'\n",
    "\n",
    "def print_board(board):\n",
    "    for row in board:\n",
    "        print(\" \".join(row))\n",
    "    print()\n",
    "\n",
    "def solve_n_queens(n):\n",
    "    board = [['.' for _ in range(n)] for _ in range(n)]\n",
    "    solve_n_queens_util(board, 0)\n",
    "\n",
    "if __name__ == \"__main__\":\n",
    "    n = 4  # Size of the board (4x4)\n",
    "    print(f\"Solutions for {n}-Queens Problem:\")\n",
    "    solve_n_queens(n)\n"
   ]
  },
  {
   "cell_type": "code",
   "execution_count": null,
   "metadata": {},
   "outputs": [],
   "source": []
  }
 ],
 "metadata": {
  "kernelspec": {
   "display_name": "Python 3",
   "language": "python",
   "name": "python3"
  },
  "language_info": {
   "codemirror_mode": {
    "name": "ipython",
    "version": 3
   },
   "file_extension": ".py",
   "mimetype": "text/x-python",
   "name": "python",
   "nbconvert_exporter": "python",
   "pygments_lexer": "ipython3",
   "version": "3.12.4"
  }
 },
 "nbformat": 4,
 "nbformat_minor": 2
}
