{
 "cells": [
  {
   "cell_type": "code",
   "execution_count": 1,
   "metadata": {},
   "outputs": [
    {
     "name": "stdout",
     "output_type": "stream",
     "text": [
      "Sorted sentence in alphabetical order:\n",
      "am i yash\n"
     ]
    }
   ],
   "source": [
    "# Write a python program to sort the sentence in alphabetical order?\n",
    "\n",
    "def sort_sentence(sentence):\n",
    "    # Split the sentence into words\n",
    "    words = sentence.split()\n",
    "    # Sort the words in alphabetical order\n",
    "    sorted_words = sorted(words)\n",
    "    # Join the sorted words back into a sentence\n",
    "    sorted_sentence = ' '.join(sorted_words)\n",
    "    return sorted_sentence\n",
    "\n",
    "def main():\n",
    "    # Input sentence from the user\n",
    "    sentence = input(\"Enter a sentence: \")\n",
    "    sorted_sentence = sort_sentence(sentence)\n",
    "    print(\"Sorted sentence in alphabetical order:\")\n",
    "    print(sorted_sentence)\n",
    "\n",
    "if __name__ == \"__main__\":\n",
    "    main()\n"
   ]
  },
  {
   "cell_type": "code",
   "execution_count": 1,
   "metadata": {},
   "outputs": [
    {
     "name": "stdout",
     "output_type": "stream",
     "text": [
      "Solution found:\n",
      "C=9, R=6, O=2, S=3, A=5, D=1, N=8, G=7, E=4\n",
      "CROSS = 96233\n",
      "ROADS = 62513\n",
      "DANGER = 158746\n"
     ]
    }
   ],
   "source": [
    "# Write a Python program for the following Cryptorithmetic problems \n",
    "# CROSS+ROADS = DANGER\n",
    "\n",
    "from itertools import permutations\n",
    "\n",
    "def is_valid_assignment(c, r, o, s, a, d, n, g, e):\n",
    "    # Calculate the numeric values of CROSS, ROADS, and DANGER\n",
    "    cross = c * 10000 + r * 1000 + o * 100 + s * 10 + s\n",
    "    roads = r * 10000 + o * 1000 + a * 100 + d * 10 + s\n",
    "    danger = d * 100000 + a * 10000 + n * 1000 + g * 100 + e * 10 + r\n",
    "    \n",
    "    # Check if the equation CROSS + ROADS = DANGER holds\n",
    "    return (cross + roads) == danger\n",
    "\n",
    "def find_solution():\n",
    "    # Letters involved in the equation\n",
    "    letters = 'CROSADNGE'\n",
    "\n",
    "    # Generate all permutations of the digits 0-9 for the 11 letters\n",
    "    for perm in permutations(range(10), len(letters)):\n",
    "        # Assign digits to letters\n",
    "        c, r, o, s, a, d, n, g, e = perm # Use only first 9 digits\n",
    "        \n",
    "        # Ensure C and R are not zero (as they are leading digits)\n",
    "        if c == 0 or r == 0:\n",
    "            continue\n",
    "        \n",
    "        if is_valid_assignment(c, r, o, s, a, d, n, g, e):\n",
    "            print(f'Solution found:')\n",
    "            print(f'C={c}, R={r}, O={o}, S={s}, A={a}, D={d}, N={n}, G={g}, E={e}')\n",
    "            print(f'CROSS = {c*10000 + r*1000 + o*100 + s*10 + s}')\n",
    "            print(f'ROADS = {r*10000 + o*1000 + a*100 + d*10 + s}')\n",
    "            print(f'DANGER = {d*100000 + a*10000 + n*1000 + g*100 + e*10 + r}')\n",
    "            return\n",
    "\n",
    "    print(\"No solution found.\")\n",
    "\n",
    "def main():\n",
    "    find_solution()\n",
    "\n",
    "if __name__ == \"__main__\":\n",
    "    main()\n"
   ]
  },
  {
   "cell_type": "code",
   "execution_count": null,
   "metadata": {},
   "outputs": [],
   "source": []
  }
 ],
 "metadata": {
  "kernelspec": {
   "display_name": "Python 3",
   "language": "python",
   "name": "python3"
  },
  "language_info": {
   "codemirror_mode": {
    "name": "ipython",
    "version": 3
   },
   "file_extension": ".py",
   "mimetype": "text/x-python",
   "name": "python",
   "nbconvert_exporter": "python",
   "pygments_lexer": "ipython3",
   "version": "3.12.4"
  }
 },
 "nbformat": 4,
 "nbformat_minor": 2
}
