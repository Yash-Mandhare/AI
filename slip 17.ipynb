{
 "cells": [
  {
   "cell_type": "code",
   "execution_count": 5,
   "metadata": {},
   "outputs": [
    {
     "name": "stdout",
     "output_type": "stream",
     "text": [
      "Iteration 1: x = 3.2519618679048077, f(x) = 2.432591481312304\n",
      "Iteration 2: x = 3.241961867904808, f(x) = 2.4575307186704\n",
      "Iteration 3: x = 3.231961867904808, f(x) = 2.482269956028496\n",
      "Iteration 4: x = 3.2219618679048083, f(x) = 2.5068091933865926\n",
      "Iteration 5: x = 3.2119618679048085, f(x) = 2.531148430744688\n",
      "Iteration 6: x = 3.2019618679048087, f(x) = 2.5552876681027836\n",
      "Iteration 7: x = 3.191961867904809, f(x) = 2.579226905460878\n",
      "Iteration 8: x = 3.181961867904809, f(x) = 2.6029661428189748\n",
      "Iteration 9: x = 3.1719618679048094, f(x) = 2.62650538017707\n",
      "Iteration 10: x = 3.1619618679048096, f(x) = 2.649844617535166\n",
      "\n",
      "Optimal point: x = 3.1619618679048096\n",
      "Maximum value: f(x) = 2.649844617535166\n"
     ]
    }
   ],
   "source": [
    "# Q1 Python program that demonstrates the hill climbing algorithm to find the maximum of a\n",
    "# mathematical function.(For example f(x) = -x^2 + 4x)\n",
    "import random\n",
    "\n",
    "# Define the function f(x) = -x^2 + 4x\n",
    "def f(x):\n",
    "    return -x**2 + 4*x\n",
    "\n",
    "# Hill Climbing Algorithm\n",
    "def hill_climbing(starting_point, step_size, max_iterations):\n",
    "    current_point = starting_point\n",
    "    current_value = f(current_point)\n",
    "\n",
    "    for iteration in range(max_iterations):\n",
    "        # Explore neighbors: Check the value of f(x) at nearby points\n",
    "        next_point = current_point + step_size if f(current_point + step_size) > current_value else current_point - step_size\n",
    "        next_value = f(next_point)\n",
    "        \n",
    "        if next_value > current_value:\n",
    "            # Move to the better point\n",
    "            current_point = next_point\n",
    "            current_value = next_value\n",
    "        else:\n",
    "            # Stop if no improvement can be made\n",
    "            break\n",
    "\n",
    "        print(f\"Iteration {iteration + 1}: x = {current_point}, f(x) = {current_value}\")\n",
    "\n",
    "    return current_point, current_value\n",
    "\n",
    "# Parameters for hill climbing\n",
    "starting_point = random.uniform(0, 5)  # Random starting point between 0 and 5\n",
    "step_size = 0.01                        # Small step size for climbing\n",
    "max_iterations = 10                   # Maximum number of iterations\n",
    "\n",
    "# Run hill climbing algorithm\n",
    "optimal_x, optimal_value = hill_climbing(starting_point, step_size, max_iterations)\n",
    "\n",
    "print(f\"\\nOptimal point: x = {optimal_x}\")\n",
    "print(f\"Maximum value: f(x) = {optimal_value}\")\n"
   ]
  },
  {
   "cell_type": "code",
   "execution_count": null,
   "metadata": {},
   "outputs": [],
   "source": [
    "# Write a Python program to implement A* algorithm. Refer the following graph as an Input for\n",
    "# the program."
   ]
  }
 ],
 "metadata": {
  "kernelspec": {
   "display_name": "Python 3",
   "language": "python",
   "name": "python3"
  },
  "language_info": {
   "codemirror_mode": {
    "name": "ipython",
    "version": 3
   },
   "file_extension": ".py",
   "mimetype": "text/x-python",
   "name": "python",
   "nbconvert_exporter": "python",
   "pygments_lexer": "ipython3",
   "version": "3.12.4"
  }
 },
 "nbformat": 4,
 "nbformat_minor": 2
}
