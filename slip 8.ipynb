{
 "cells": [
  {
   "cell_type": "code",
   "execution_count": 1,
   "metadata": {},
   "outputs": [
    {
     "name": "stdout",
     "output_type": "stream",
     "text": [
      "Enter a string: Hello! World\n",
      "Number of uppercase letters: 2\n",
      "Number of lowercase letters: 8\n"
     ]
    }
   ],
   "source": [
    "# Write a Python program to accept a string. Find and print the number of upper case alphabets and lower case alphabets.\n",
    "\n",
    "def count_case(s):\n",
    "    upper_case_count = 0\n",
    "    lower_case_count = 0\n",
    "\n",
    "    for char in s:\n",
    "        if char.isupper():\n",
    "            upper_case_count += 1\n",
    "        elif char.islower():\n",
    "            lower_case_count += 1\n",
    "\n",
    "    return upper_case_count, lower_case_count\n",
    "\n",
    "def main():\n",
    "    # Accepting input from the user\n",
    "    user_input = input(\"Enter a string: \")\n",
    "    \n",
    "    # Counting uppercase and lowercase letters\n",
    "    upper_count, lower_count = count_case(user_input)\n",
    "    \n",
    "    # Printing the results\n",
    "    print(f\"Number of uppercase letters: {upper_count}\")\n",
    "    print(f\"Number of lowercase letters: {lower_count}\")\n",
    "\n",
    "if __name__ == \"__main__\":\n",
    "    main()\n"
   ]
  },
  {
   "cell_type": "code",
   "execution_count": null,
   "metadata": {},
   "outputs": [],
   "source": [
    "\n",
    "# Write a Python program to solve tic-tac-toe problem.\n",
    "\n",
    "PLAYER_X = 'X'\n",
    "PLAYER_O = 'O'\n",
    "EMPTY = ' '\n",
    "\n",
    "def print_board(board):\n",
    "    print(\"\\nCurrent Board:\")\n",
    "    for row in board:\n",
    "        for cell in row:\n",
    "            print(f'| {cell} |', end='')\n",
    "        print('\\n' + '---------------')\n",
    "    print('===============')\n",
    "\n",
    "def check_winner(board):\n",
    "    for i in range(3):\n",
    "        if board[i][0] == board[i][1] == board[i][2] != EMPTY:\n",
    "            return board[i][0]\n",
    "        if board[0][i] == board[1][i] == board[2][i] != EMPTY:\n",
    "            return board[0][i]\n",
    "    if board[0][0] == board[1][1] == board[2][2] != EMPTY:\n",
    "        return board[0][0]\n",
    "    if board[0][2] == board[1][1] == board[2][0] != EMPTY:\n",
    "        return board[0][2]\n",
    "    if all(cell != EMPTY for row in board for cell in row):\n",
    "        return 'Draw'\n",
    "    return None\n",
    "\n",
    "def player_move(board, player):\n",
    "    while True:\n",
    "        try:\n",
    "            move = int(input(f\"Player {player}, enter your move (1-9): \")) - 1\n",
    "            row, col = divmod(move, 3)\n",
    "            if board[row][col] == EMPTY:\n",
    "                board[row][col] = player\n",
    "                break\n",
    "            else:\n",
    "                print(\"This position is already taken. Try again.\")\n",
    "        except (ValueError, IndexError):\n",
    "            print(\"Invalid move. Please enter a number between 1 and 9.\")\n",
    "\n",
    "\n",
    "board = [[EMPTY] * 3 for _ in range(3)]\n",
    "print(\"Welcome to Tic-Tac-Toe!\")\n",
    "print_board(board)\n",
    "current_player = PLAYER_X\n",
    "\n",
    "while True:\n",
    "    player_move(board, current_player)\n",
    "    print_board(board)\n",
    "    winner = check_winner(board)\n",
    "    if winner:\n",
    "        break\n",
    "    current_player = PLAYER_O if current_player == PLAYER_X else PLAYER_X\n",
    "\n",
    "if winner == PLAYER_X:\n",
    "    print(\"Congratulations! Player X wins!\")\n",
    "elif winner == PLAYER_O:\n",
    "    print(\"Congratulations! Player O wins!\")\n",
    "else:\n",
    "    print(\"It's a draw! Well played!\")\n",
    "\n",
    "\n",
    "\n"
   ]
  },
  {
   "cell_type": "code",
   "execution_count": null,
   "metadata": {},
   "outputs": [],
   "source": [
    "\n"
   ]
  }
 ],
 "metadata": {
  "kernelspec": {
   "display_name": "Python 3",
   "language": "python",
   "name": "python3"
  },
  "language_info": {
   "codemirror_mode": {
    "name": "ipython",
    "version": 3
   },
   "file_extension": ".py",
   "mimetype": "text/x-python",
   "name": "python",
   "nbconvert_exporter": "python",
   "pygments_lexer": "ipython3",
   "version": "3.12.4"
  }
 },
 "nbformat": 4,
 "nbformat_minor": 2
}
