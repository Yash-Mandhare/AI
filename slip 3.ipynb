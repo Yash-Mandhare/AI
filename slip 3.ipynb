{
 "cells": [
  {
   "cell_type": "code",
   "execution_count": 1,
   "id": "aea4b127",
   "metadata": {},
   "outputs": [
    {
     "name": "stdout",
     "output_type": "stream",
     "text": [
      "Original String: Hello, World! How's it going? Let's remove: punctuation.\n",
      "String without punctuation: Hello World Hows it going Lets remove punctuation\n"
     ]
    }
   ],
   "source": [
    "# Write a python program to remove punctuations from the given string?\n",
    "\n",
    "import string\n",
    "\n",
    "def remove_punctuation(input_string):\n",
    "    # Create a translation table that maps punctuation to None\n",
    "    translator = str.maketrans('', '', string.punctuation)\n",
    "    \n",
    "    # Use the translation table to remove punctuation from the string\n",
    "    return input_string.translate(translator)\n",
    "\n",
    "# Example input\n",
    "input_string = \"Hello, World! How's it going? Let's remove: punctuation.\"\n",
    "clean_string = remove_punctuation(input_string)\n",
    "\n",
    "print(f\"Original String: {input_string}\")\n",
    "print(f\"String without punctuation: {clean_string}\")\n"
   ]
  },
  {
   "cell_type": "code",
   "execution_count": 13,
   "id": "62743b9c",
   "metadata": {},
   "outputs": [
    {
     "name": "stdout",
     "output_type": "stream",
     "text": [
      "Visited: 2\n",
      "Visited: 1\n",
      "Visited: 3\n",
      "Visited: 4\n",
      "Visited: 7\n",
      "\n",
      "DFS path to reach node 7: [2, 1, 3, 4, 7]\n"
     ]
    }
   ],
   "source": [
    "# Depth First Search (DFS) implementation\n",
    "def dfs(graph, start, goal, visited=None, path=None):\n",
    "    if visited is None:\n",
    "        visited = set()  # Set to keep track of visited nodes\n",
    "    if path is None:\n",
    "        path = []  # List to maintain the path\n",
    "    \n",
    "    visited.add(start)\n",
    "    path.append(start)\n",
    "\n",
    "    print(f\"Visited: {start}\")\n",
    "\n",
    "    # If goal is reached, return the current path\n",
    "    if start == goal:\n",
    "        return path\n",
    "\n",
    "    # Recur for all the vertices adjacent to this vertex\n",
    "    for neighbor in graph[start]:\n",
    "        if neighbor not in visited:\n",
    "            result = dfs(graph, neighbor, goal, visited, path)\n",
    "            if result:\n",
    "                return result\n",
    "\n",
    "    # If no path found, backtrack\n",
    "    path.pop()\n",
    "    return None\n",
    "\n",
    "# Graph input using adjacency list representation\n",
    "graph = {\n",
    "    1: [2, 3, 4],\n",
    "    2: [1, 4, 5],\n",
    "    3: [1, 4],\n",
    "    4: [1, 2, 3, 7],\n",
    "    5: [6, 3, 7],\n",
    "    6: [5 , 7],\n",
    "    7: [6 , 5, 4],\n",
    "}\n",
    "\n",
    "# Input: Initial node (2), Goal node (7)\n",
    "start_node = 2\n",
    "goal_node = 7\n",
    "\n",
    "# Perform DFS\n",
    "dfs_path = dfs(graph, start_node, goal_node)\n",
    "\n",
    "print(f\"\\nDFS path to reach node {goal_node}: {dfs_path}\")\n"
   ]
  },
  {
   "cell_type": "code",
   "execution_count": null,
   "id": "25d0e59b",
   "metadata": {},
   "outputs": [],
   "source": []
  }
 ],
 "metadata": {
  "kernelspec": {
   "display_name": "Python 3",
   "language": "python",
   "name": "python3"
  },
  "language_info": {
   "codemirror_mode": {
    "name": "ipython",
    "version": 3
   },
   "file_extension": ".py",
   "mimetype": "text/x-python",
   "name": "python",
   "nbconvert_exporter": "python",
   "pygments_lexer": "ipython3",
   "version": "3.12.4"
  }
 },
 "nbformat": 4,
 "nbformat_minor": 5
}
