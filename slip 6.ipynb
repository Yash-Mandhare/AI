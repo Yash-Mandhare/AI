{
 "cells": [
  {
   "cell_type": "code",
   "execution_count": 8,
   "metadata": {},
   "outputs": [
    {
     "name": "stdout",
     "output_type": "stream",
     "text": [
      "Filtered Text:\n",
      "bustling city New York , many people often find caught whirlwind daily activities . Whether 's commuting work , attending meetings , simply enjoying cup coffee favorite cafÃ© , life city exciting overwhelming . Despite chaos , residents cherish vibrant culture diverse community make New York unique place live .\n"
     ]
    }
   ],
   "source": [
    "# Write a python program to remove stop words for a given passage from a text file using NLTK?.\n",
    "\n",
    "import nltk\n",
    "from nltk.corpus import stopwords\n",
    "from nltk.tokenize import word_tokenize\n",
    "\n",
    "\n",
    "\n",
    "# Function to remove stop words from a text\n",
    "def remove_stop_words(file_path):\n",
    "    # Load stop words\n",
    "    stop_words = set(stopwords.words('english'))\n",
    "\n",
    "    # Read the passage from the text file\n",
    "    with open(file_path, 'r') as file:\n",
    "        text = file.read()\n",
    "\n",
    "    # Tokenize the text\n",
    "    words = word_tokenize(text)\n",
    "\n",
    "    # Filter out stop words\n",
    "    filtered_words = [word for word in words if word.lower() not in stop_words]\n",
    "\n",
    "    # Join the filtered words back into a string\n",
    "    filtered_text = ' '.join(filtered_words)\n",
    "\n",
    "    return filtered_text\n",
    "\n",
    "# Specify the path to your text file\n",
    "file_path = 'text.txt'  # Update this path\n",
    "\n",
    "# Remove stop words and print the result\n",
    "result = remove_stop_words(file_path)\n",
    "print(\"Filtered Text:\")\n",
    "print(result)\n"
   ]
  },
  {
   "cell_type": "code",
   "execution_count": 2,
   "metadata": {},
   "outputs": [
    {
     "name": "stdout",
     "output_type": "stream",
     "text": [
      "Visited: 1\n",
      "Visited: 2\n",
      "Visited: 3\n",
      "Visited: 4\n",
      "Visited: 4\n",
      "Visited: 5\n",
      "Visited: 4\n",
      "Visited: 7\n",
      "\n",
      "BFS path to reach node 7: [1, 4, 7]\n"
     ]
    }
   ],
   "source": [
    "# Write a Python program to implement Breadth First Search algorithm. Refer the following graph as an Input for the program.[Initial node=1,Goal node=7]\n",
    "\n",
    "from collections import deque\n",
    "\n",
    "def bfs(graph, start, goal):\n",
    "    visited = set()  # Set to keep track of visited nodes\n",
    "    queue = deque([(start, [start])])  # Queue to maintain paths\n",
    "\n",
    "    while queue:\n",
    "        current, path = queue.popleft()  # Get the current node and path\n",
    "\n",
    "        print(f\"Visited: {current}\")\n",
    "\n",
    "        # If goal is reached, return the current path\n",
    "        if current == goal:\n",
    "            return path\n",
    "\n",
    "        visited.add(current)\n",
    "\n",
    "        # Enqueue all unvisited neighbors\n",
    "        for neighbor in graph[current]:\n",
    "            if neighbor not in visited:\n",
    "                queue.append((neighbor, path + [neighbor]))\n",
    "\n",
    "    return None  # Return None if no path is found\n",
    "\n",
    "# Graph input using adjacency list representation\n",
    "graph = {\n",
    "    1: [2, 3, 4],\n",
    "    2: [1, 4, 5],\n",
    "    3: [1, 4],\n",
    "    4: [1, 2, 3, 7],\n",
    "    5: [6, 3, 7],\n",
    "    6: [5 , 7],\n",
    "    7: [6 , 5, 4],\n",
    "}\n",
    "\n",
    "# Input: Initial node (1), Goal node (8)\n",
    "start_node = 1\n",
    "goal_node = 7\n",
    "\n",
    "# Perform BFS\n",
    "bfs_path = bfs(graph, start_node, goal_node)\n",
    "\n",
    "print(f\"\\nBFS path to reach node {goal_node}: {bfs_path}\")\n"
   ]
  },
  {
   "cell_type": "code",
   "execution_count": null,
   "metadata": {},
   "outputs": [],
   "source": []
  }
 ],
 "metadata": {
  "kernelspec": {
   "display_name": "Python 3",
   "language": "python",
   "name": "python3"
  },
  "language_info": {
   "codemirror_mode": {
    "name": "ipython",
    "version": 3
   },
   "file_extension": ".py",
   "mimetype": "text/x-python",
   "name": "python",
   "nbconvert_exporter": "python",
   "pygments_lexer": "ipython3",
   "version": "3.12.4"
  }
 },
 "nbformat": 4,
 "nbformat_minor": 2
}
