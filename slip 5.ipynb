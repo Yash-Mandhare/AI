{
 "cells": [
  {
   "cell_type": "code",
   "execution_count": 3,
   "metadata": {},
   "outputs": [
    {
     "name": "stdout",
     "output_type": "stream",
     "text": [
      "Input text: The striped bats are hanging on their feet for best\n",
      "Lemmatized output: ['The', 'striped', 'bat', 'are', 'hanging', 'on', 'their', 'foot', 'for', 'best']\n"
     ]
    }
   ],
   "source": [
    "# Write a python program to implement Lemmatization using NLTK\n",
    "\n",
    "import nltk\n",
    "from nltk.stem import WordNetLemmatizer\n",
    "\n",
    "# Uncomment the following lines if you haven't downloaded the WordNet data yet\n",
    "# nltk.download('punkt')\n",
    "# nltk.download('wordnet')\n",
    "\n",
    "def lemmatize_text(text):\n",
    "    # Initialize the lemmatizer\n",
    "    lemmatizer = WordNetLemmatizer()\n",
    "    \n",
    "    # Tokenize the input text\n",
    "    words = nltk.word_tokenize(text)\n",
    "    \n",
    "    # Lemmatize each word and store the results\n",
    "    lemmatized_words = [lemmatizer.lemmatize(word) for word in words]\n",
    "    \n",
    "    return lemmatized_words\n",
    "\n",
    "if __name__ == \"__main__\":\n",
    "    input_text = \"The striped bats are hanging on their feet for best\"\n",
    "    print(\"Input text:\", input_text)\n",
    "    \n",
    "    lemmatized_output = lemmatize_text(input_text)\n",
    "    print(\"Lemmatized output:\", lemmatized_output)\n"
   ]
  },
  {
   "cell_type": "code",
   "execution_count": 5,
   "metadata": {},
   "outputs": [
    {
     "name": "stdout",
     "output_type": "stream",
     "text": [
      "Visited: 1\n",
      "Visited: 2\n",
      "Visited: 4\n",
      "Visited: 3\n",
      "Visited: 6\n",
      "Visited: 5\n",
      "Visited: 8\n",
      "\n",
      "BFS path to reach node 8: [1, 2, 3, 6, 8]\n"
     ]
    }
   ],
   "source": [
    "# Write a Python program to implement Breadth First Search algorithm. Refer the following graph as an Input for the program.[Initial node=1,Goal node=8]\n",
    "\n",
    "from collections import deque\n",
    "\n",
    "def bfs(graph, start, goal):\n",
    "    visited = set()  # Set to keep track of visited nodes\n",
    "    queue = deque([(start, [start])])  # Queue to maintain paths\n",
    "\n",
    "    while queue:\n",
    "        current, path = queue.popleft()  # Get the current node and path\n",
    "\n",
    "        print(f\"Visited: {current}\")\n",
    "\n",
    "        # If goal is reached, return the current path\n",
    "        if current == goal:\n",
    "            return path\n",
    "\n",
    "        visited.add(current)\n",
    "\n",
    "        # Enqueue all unvisited neighbors\n",
    "        for neighbor in graph[current]:\n",
    "            if neighbor not in visited:\n",
    "                queue.append((neighbor, path + [neighbor]))\n",
    "\n",
    "    return None  # Return None if no path is found\n",
    "\n",
    "# Graph input using adjacency list representation\n",
    "graph = {\n",
    "    1: [2, 4],\n",
    "    2: [3],\n",
    "    3: [4, 6, 5],\n",
    "    4: [2],\n",
    "    5: [7, 8],\n",
    "    6: [8],\n",
    "    7: [8],\n",
    "    8: []\n",
    "}\n",
    "\n",
    "# Input: Initial node (1), Goal node (8)\n",
    "start_node = 1\n",
    "goal_node = 8\n",
    "\n",
    "# Perform BFS\n",
    "bfs_path = bfs(graph, start_node, goal_node)\n",
    "\n",
    "print(f\"\\nBFS path to reach node {goal_node}: {bfs_path}\")\n"
   ]
  },
  {
   "cell_type": "code",
   "execution_count": null,
   "metadata": {},
   "outputs": [],
   "source": []
  }
 ],
 "metadata": {
  "kernelspec": {
   "display_name": "Python 3",
   "language": "python",
   "name": "python3"
  },
  "language_info": {
   "codemirror_mode": {
    "name": "ipython",
    "version": 3
   },
   "file_extension": ".py",
   "mimetype": "text/x-python",
   "name": "python",
   "nbconvert_exporter": "python",
   "pygments_lexer": "ipython3",
   "version": "3.12.4"
  }
 },
 "nbformat": 4,
 "nbformat_minor": 2
}
