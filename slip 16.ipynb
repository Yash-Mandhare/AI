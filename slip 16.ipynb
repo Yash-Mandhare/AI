{
 "cells": [
  {
   "cell_type": "code",
   "execution_count": 1,
   "metadata": {},
   "outputs": [
    {
     "name": "stdout",
     "output_type": "stream",
     "text": [
      "The sequence of moves involved in the Tower of Hanoi are:\n",
      "Move disk 1 from A to C\n",
      "Move disk 2 from A to B\n",
      "Move disk 1 from C to B\n",
      "Move disk 3 from A to C\n",
      "Move disk 1 from B to A\n",
      "Move disk 2 from B to C\n",
      "Move disk 1 from A to C\n"
     ]
    }
   ],
   "source": [
    "# Write a Program to Implement Tower of Hanoi using Python\n",
    "\n",
    "def tower_of_hanoi(n, source, destination, auxiliary):\n",
    "    if n == 1:\n",
    "        print(f\"Move disk 1 from {source} to {destination}\")\n",
    "        return\n",
    "    # Move n-1 disks from source to auxiliary, so they are out of the way\n",
    "    tower_of_hanoi(n - 1, source, auxiliary, destination)\n",
    "    # Move the nth disk from source to destination\n",
    "    print(f\"Move disk {n} from {source} to {destination}\")\n",
    "    # Move the n-1 disks that we left on auxiliary to destination\n",
    "    tower_of_hanoi(n - 1, auxiliary, destination, source)\n",
    "\n",
    "def main():\n",
    "    n = int(input(\"Enter the number of disks: \"))\n",
    "    print(\"The sequence of moves involved in the Tower of Hanoi are:\")\n",
    "    tower_of_hanoi(n, 'A', 'C', 'B')  # A, B and C are the names of rods\n",
    "\n",
    "if __name__ == \"__main__\":\n",
    "    main()\n"
   ]
  },
  {
   "cell_type": "code",
   "execution_count": null,
   "metadata": {},
   "outputs": [
    {
     "name": "stdout",
     "output_type": "stream",
     "text": [
      "Welcome to Tic-Tac-Toe!\n",
      "\n",
      "Current Board:\n",
      "|   ||   ||   |\n",
      "---------------\n",
      "|   ||   ||   |\n",
      "---------------\n",
      "|   ||   ||   |\n",
      "---------------\n",
      "===============\n"
     ]
    }
   ],
   "source": [
    "\n",
    "# Write a Python program to solve tic-tac-toe problem.\n",
    "\n",
    "PLAYER_X = 'X'\n",
    "PLAYER_O = 'O'\n",
    "EMPTY = ' '\n",
    "\n",
    "def print_board(board):\n",
    "    print(\"\\nCurrent Board:\")\n",
    "    for row in board:\n",
    "        for cell in row:\n",
    "            print(f'| {cell} |', end='')\n",
    "        print('\\n' + '---------------')\n",
    "    print('===============')\n",
    "\n",
    "def check_winner(board):\n",
    "    for i in range(3):\n",
    "        if board[i][0] == board[i][1] == board[i][2] != EMPTY:\n",
    "            return board[i][0]\n",
    "        if board[0][i] == board[1][i] == board[2][i] != EMPTY:\n",
    "            return board[0][i]\n",
    "    if board[0][0] == board[1][1] == board[2][2] != EMPTY:\n",
    "        return board[0][0]\n",
    "    if board[0][2] == board[1][1] == board[2][0] != EMPTY:\n",
    "        return board[0][2]\n",
    "    if all(cell != EMPTY for row in board for cell in row):\n",
    "        return 'Draw'\n",
    "    return None\n",
    "\n",
    "def player_move(board, player):\n",
    "    while True:\n",
    "        try:\n",
    "            move = int(input(f\"Player {player}, enter your move (1-9): \")) - 1\n",
    "            row, col = divmod(move, 3)\n",
    "            if board[row][col] == EMPTY:\n",
    "                board[row][col] = player\n",
    "                break\n",
    "            else:\n",
    "                print(\"This position is already taken. Try again.\")\n",
    "        except (ValueError, IndexError):\n",
    "            print(\"Invalid move. Please enter a number between 1 and 9.\")\n",
    "\n",
    "\n",
    "board = [[EMPTY] * 3 for _ in range(3)]\n",
    "print(\"Welcome to Tic-Tac-Toe!\")\n",
    "print_board(board)\n",
    "current_player = PLAYER_X\n",
    "\n",
    "while True:\n",
    "    player_move(board, current_player)\n",
    "    print_board(board)\n",
    "    winner = check_winner(board)\n",
    "    if winner:\n",
    "        break\n",
    "    current_player = PLAYER_O if current_player == PLAYER_X else PLAYER_X\n",
    "\n",
    "if winner == PLAYER_X:\n",
    "    print(\"Congratulations! Player X wins!\")\n",
    "elif winner == PLAYER_O:\n",
    "    print(\"Congratulations! Player O wins!\")\n",
    "else:\n",
    "    print(\"It's a draw! Well played!\")\n",
    "\n",
    "\n",
    "\n"
   ]
  },
  {
   "cell_type": "code",
   "execution_count": null,
   "metadata": {},
   "outputs": [],
   "source": []
  }
 ],
 "metadata": {
  "kernelspec": {
   "display_name": "Python 3",
   "language": "python",
   "name": "python3"
  },
  "language_info": {
   "codemirror_mode": {
    "name": "ipython",
    "version": 3
   },
   "file_extension": ".py",
   "mimetype": "text/x-python",
   "name": "python",
   "nbconvert_exporter": "python",
   "pygments_lexer": "ipython3",
   "version": "3.12.4"
  }
 },
 "nbformat": 4,
 "nbformat_minor": 2
}
