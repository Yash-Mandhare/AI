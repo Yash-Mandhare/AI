{
 "cells": [
  {
   "cell_type": "code",
   "execution_count": 1,
   "metadata": {},
   "outputs": [
    {
     "name": "stdout",
     "output_type": "stream",
     "text": [
      "Enter a sentence: i am yash\n",
      "Sorted sentence in alphabetical order:\n",
      "am i yash\n"
     ]
    }
   ],
   "source": [
    "# Write a python program to sort the sentence in alphabetical order?\n",
    "\n",
    "def sort_sentence(sentence):\n",
    "    # Split the sentence into words\n",
    "    words = sentence.split()\n",
    "    # Sort the words in alphabetical order\n",
    "    sorted_words = sorted(words)\n",
    "    # Join the sorted words back into a sentence\n",
    "    sorted_sentence = ' '.join(sorted_words)\n",
    "    return sorted_sentence\n",
    "\n",
    "def main():\n",
    "    # Input sentence from the user\n",
    "    sentence = input(\"Enter a sentence: \")\n",
    "    sorted_sentence = sort_sentence(sentence)\n",
    "    print(\"Sorted sentence in alphabetical order:\")\n",
    "    print(sorted_sentence)\n",
    "\n",
    "if __name__ == \"__main__\":\n",
    "    main()\n"
   ]
  },
  {
   "cell_type": "code",
   "execution_count": null,
   "metadata": {},
   "outputs": [
    {
     "name": "stdout",
     "output_type": "stream",
     "text": [
      ". Q . .\n",
      ". . . Q\n",
      "Q . . .\n",
      ". . Q .\n",
      "\n",
      ". . Q .\n",
      "Q . . .\n",
      ". . . Q\n",
      ". Q . .\n",
      "\n"
     ]
    }
   ],
   "source": [
    "# Write a Python program to simulate n-Queens problem.\n",
    "\n",
    "def solve_n_queens(n):\n",
    "    board = [-1] * n  # Initialize board with -1 to indicate no queens placed\n",
    "    solutions = []    # To store all valid solutions\n",
    "\n",
    "    def place_queens(row):\n",
    "        if row == n:  # All queens are placed\n",
    "            solutions.append(board[:])  # Store a copy of the board\n",
    "            return\n",
    "\n",
    "        for col in range(n):\n",
    "            if all(col != board[i] and abs(col - board[i]) != row - i for i in range(row)):\n",
    "                board[row] = col  # Place queen\n",
    "                place_queens(row + 1)  # Move to the next row\n",
    "                board[row] = -1  # Backtrack\n",
    "\n",
    "    place_queens(0)\n",
    "    return solutions\n",
    "\n",
    "# Display the solutions\n",
    "def print_solutions(solutions, n):\n",
    "    for solution in solutions:\n",
    "        for col in solution:\n",
    "            row = ['.'] * n\n",
    "            row[col] = 'Q'\n",
    "            print(\" \".join(row))\n",
    "        print()\n",
    "\n",
    "# Solve and print all solutions for the 4-Queens problem\n",
    "n=4\n",
    "solutions = solve_n_queens(n)\n",
    "print_solutions(solutions, n)\n"
   ]
  },
  {
   "cell_type": "code",
   "execution_count": 4,
   "metadata": {},
   "outputs": [
    {
     "name": "stdout",
     "output_type": "stream",
     "text": [
      ". Q . .\n",
      ". . . Q\n",
      "Q . . .\n",
      ". . Q .\n",
      "\n",
      ". . Q .\n",
      "Q . . .\n",
      ". . . Q\n",
      ". Q . .\n",
      "\n"
     ]
    }
   ],
   "source": [
    "def solve_n_queens(n):\n",
    "    board = [-1] * n  # Initialize board with -1 to indicate no queens placed\n",
    "    solutions = []    # To store all valid solutions\n",
    "\n",
    "    def place_queens(row):\n",
    "        if row == n:  # All queens are placed\n",
    "            solutions.append(board[:])  # Store a copy of the board\n",
    "            return\n",
    "\n",
    "        for col in range(n):\n",
    "            if all(col != board[i] and abs(col - board[i]) != row - i for i in range(row)):\n",
    "                board[row] = col  # Place queen\n",
    "                place_queens(row + 1)  # Move to the next row\n",
    "                board[row] = -1  # Backtrack\n",
    "\n",
    "    place_queens(0)\n",
    "    return solutions\n",
    "\n",
    "# Display the solutions\n",
    "def print_solutions(solutions, n):\n",
    "    for solution in solutions:\n",
    "        for col in solution:\n",
    "            row = ['.'] * n\n",
    "            row[col] = 'Q'\n",
    "            print(\" \".join(row))\n",
    "        print()\n",
    "\n",
    "# Solve and print all solutions for the 4-Queens problem\n",
    "n=4\n",
    "solutions = solve_n_queens(n)\n",
    "print_solutions(solutions, n)\n"
   ]
  },
  {
   "cell_type": "code",
   "execution_count": null,
   "metadata": {},
   "outputs": [],
   "source": []
  }
 ],
 "metadata": {
  "kernelspec": {
   "display_name": "Python 3",
   "language": "python",
   "name": "python3"
  },
  "language_info": {
   "codemirror_mode": {
    "name": "ipython",
    "version": 3
   },
   "file_extension": ".py",
   "mimetype": "text/x-python",
   "name": "python",
   "nbconvert_exporter": "python",
   "pygments_lexer": "ipython3",
   "version": "3.12.4"
  }
 },
 "nbformat": 4,
 "nbformat_minor": 2
}
