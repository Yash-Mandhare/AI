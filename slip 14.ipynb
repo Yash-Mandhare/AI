{
 "cells": [
  {
   "cell_type": "code",
   "execution_count": 1,
   "metadata": {},
   "outputs": [
    {
     "name": "stdout",
     "output_type": "stream",
     "text": [
      "Enter a sentence: i am yash\n",
      "Sorted sentence in alphabetical order:\n",
      "am i yash\n"
     ]
    }
   ],
   "source": [
    "# Write a python program to sort the sentence in alphabetical order?\n",
    "\n",
    "def sort_sentence(sentence):\n",
    "    # Split the sentence into words\n",
    "    words = sentence.split()\n",
    "    # Sort the words in alphabetical order\n",
    "    sorted_words = sorted(words)\n",
    "    # Join the sorted words back into a sentence\n",
    "    sorted_sentence = ' '.join(sorted_words)\n",
    "    return sorted_sentence\n",
    "\n",
    "def main():\n",
    "    # Input sentence from the user\n",
    "    sentence = input(\"Enter a sentence: \")\n",
    "    sorted_sentence = sort_sentence(sentence)\n",
    "    print(\"Sorted sentence in alphabetical order:\")\n",
    "    print(sorted_sentence)\n",
    "\n",
    "if __name__ == \"__main__\":\n",
    "    main()\n"
   ]
  },
  {
   "cell_type": "code",
   "execution_count": 2,
   "metadata": {},
   "outputs": [
    {
     "name": "stdout",
     "output_type": "stream",
     "text": [
      "Solutions for 4-Queens Problem:\n",
      ". Q . .\n",
      ". . . Q\n",
      "Q . . .\n",
      ". . Q .\n",
      "\n",
      ". . Q .\n",
      "Q . . .\n",
      ". . . Q\n",
      ". Q . .\n",
      "\n"
     ]
    }
   ],
   "source": [
    "# Write a Python program to simulate n-Queens problem.\n",
    "\n",
    "def is_safe(board, row, col):\n",
    "    # Check this column on the upper side\n",
    "    for i in range(row):\n",
    "        if board[i][col] == 'Q':\n",
    "            return False\n",
    "\n",
    "    # Check the upper diagonal on the left side\n",
    "    for i, j in zip(range(row, -1, -1), range(col, -1, -1)):\n",
    "        if j < 0: break  # Prevent going out of bounds\n",
    "        if board[i][j] == 'Q':\n",
    "            return False\n",
    "\n",
    "    # Check the upper diagonal on the right side\n",
    "    for i, j in zip(range(row, -1, -1), range(col, len(board))):\n",
    "        if j >= len(board): break  # Prevent going out of bounds\n",
    "        if board[i][j] == 'Q':\n",
    "            return False\n",
    "\n",
    "    return True\n",
    "\n",
    "def solve_n_queens_util(board, row):\n",
    "    if row >= len(board):\n",
    "        # All queens are placed, print the solution\n",
    "        print_board(board)\n",
    "        return\n",
    "\n",
    "    for col in range(len(board)):\n",
    "        if is_safe(board, row, col):\n",
    "            # Place the queen\n",
    "            board[row][col] = 'Q'\n",
    "            # Recur to place the rest of the queens\n",
    "            solve_n_queens_util(board, row + 1)\n",
    "            # Backtrack by removing the queen\n",
    "            board[row][col] = '.'\n",
    "\n",
    "def print_board(board):\n",
    "    for row in board:\n",
    "        print(\" \".join(row))\n",
    "    print()\n",
    "\n",
    "def solve_n_queens(n):\n",
    "    board = [['.' for _ in range(n)] for _ in range(n)]\n",
    "    solve_n_queens_util(board, 0)\n",
    "\n",
    "if __name__ == \"__main__\":\n",
    "    n = 4  # Size of the board (4x4)\n",
    "    print(f\"Solutions for {n}-Queens Problem:\")\n",
    "    solve_n_queens(n)\n"
   ]
  },
  {
   "cell_type": "code",
   "execution_count": null,
   "metadata": {},
   "outputs": [],
   "source": []
  }
 ],
 "metadata": {
  "kernelspec": {
   "display_name": "Python 3",
   "language": "python",
   "name": "python3"
  },
  "language_info": {
   "codemirror_mode": {
    "name": "ipython",
    "version": 3
   },
   "file_extension": ".py",
   "mimetype": "text/x-python",
   "name": "python",
   "nbconvert_exporter": "python",
   "pygments_lexer": "ipython3",
   "version": "3.12.4"
  }
 },
 "nbformat": 4,
 "nbformat_minor": 2
}
