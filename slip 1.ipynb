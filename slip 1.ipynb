{
 "cells": [
  {
   "cell_type": "code",
   "execution_count": 8,
   "id": "dd14b180",
   "metadata": {},
   "outputs": [
    {
     "name": "stdout",
     "output_type": "stream",
     "text": [
      "Optimal point: x = 2.0100000000000007\n",
      "Maximum value: f(x) = 3.9999000000000002\n"
     ]
    }
   ],
   "source": [
    "# Q1 Python program that demonstrates the hill climbing algorithm to find the maximum of a\n",
    "# mathematical function.(For example f(x) = -x^2 + 4x)\n",
    "# Define the function f(x) = -x^2 + 4x\n",
    "def f(x):\n",
    "    return -x**2 + 4*x\n",
    "\n",
    "# Generate neighbors by moving left and right by a small step\n",
    "def generate_neighbors(x, step=0.1):\n",
    "    return [x - step, x + step]\n",
    "\n",
    "# Hill Climbing Algorithm\n",
    "def hill_climbing(f, x0):\n",
    "    x = x0  # Initial solution\n",
    "    while True:\n",
    "        neighbors = generate_neighbors(x)  # Generate neighbors of x\n",
    "        # Find the neighbor with the highest function value\n",
    "        best_neighbor = max(neighbors, key=f)\n",
    "        if f(best_neighbor) <= f(x):  # Stop if no improvement\n",
    "            return x\n",
    "        x = best_neighbor  # Move to the best neighbor\n",
    "\n",
    "# Starting point\n",
    "starting_point = 0.01  # Example starting point\n",
    "\n",
    "# Run hill climbing algorithm\n",
    "optimal_x = hill_climbing(f, starting_point)\n",
    "print(f\"Optimal point: x = {optimal_x}\")\n",
    "print(f\"Maximum value: f(x) = {f(optimal_x)}\")\n"
   ]
  },
  {
   "cell_type": "code",
   "execution_count": 12,
   "id": "35cccd19",
   "metadata": {},
   "outputs": [
    {
     "name": "stdout",
     "output_type": "stream",
     "text": [
      "Following is the Depth-First Search from node 1 to find node 8:\n",
      "Visited: 1\n",
      "Visited: 2\n",
      "Visited: 4\n",
      "Visited: 8\n",
      "Visited: 5\n",
      "Visited: 6\n",
      "Visited: 3\n",
      "Visited: 7\n",
      "\n",
      "DFS path to reach node 7: [1, 2, 4, 8, 6, 3, 7]\n"
     ]
    },
    {
     "data": {
      "text/plain": [
       "True"
      ]
     },
     "execution_count": 12,
     "metadata": {},
     "output_type": "execute_result"
    }
   ],
   "source": [
    "# Write a Python program to implement Depth First Search algorithm. Refer the following graph\n",
    "# as an Input for the program. [Initial node=1,Goal node=8]\n",
    "\n",
    "# Sample graph represented as an adjacency list\n",
    "graph = {\n",
    "    1: [2, 3],\n",
    "    2: [1, 4, 5],\n",
    "    3: [1, 6, 7],\n",
    "    4: [2, 8],\n",
    "    5: [2, 8],\n",
    "    6: [3, 8],\n",
    "    7: [3, 8],\n",
    "    8: [4, 5, 6, 7]\n",
    "}\n",
    "\n",
    "visited = set()  # Set to keep track of visited nodes\n",
    "path = []  # List to store the path to the goal node\n",
    "\n",
    "# Function to perform DFS from a starting node, stopping if the goal node is found\n",
    "def dfs(visited, graph, node, goal, path):\n",
    "    if node not in visited:\n",
    "        print(f\"Visited: {node}\")\n",
    "        visited.add(node)\n",
    "        path.append(node)  # Add current node to path\n",
    "        if node == goal:\n",
    "            print(f\"\\nDFS path to reach node {goal}: {path}\")\n",
    "            return True  # Stop if the goal node is found\n",
    "        for neighbour in graph[node]:\n",
    "            if dfs(visited, graph, neighbour, goal, path):  # Continue DFS on neighbors\n",
    "                return True\n",
    "        path.pop()  # Remove the node if not leading to goal\n",
    "    return False\n",
    "\n",
    "# Driver code\n",
    "print(\"Following is the Depth-First Search from node 1 to find node 8:\")\n",
    "dfs(visited, graph, 1, 7, path)\n",
    "\n"
   ]
  },
  {
   "cell_type": "code",
   "execution_count": null,
   "id": "ada2d217",
   "metadata": {},
   "outputs": [
    {
     "name": "stdout",
     "output_type": "stream",
     "text": [
      "Following is the Depth-First Search from node 1 to find node 8:\n",
      "1\n",
      "2\n",
      "4\n",
      "8\n",
      "{8, 1, 2, 4}\n"
     ]
    }
   ],
   "source": []
  },
  {
   "cell_type": "code",
   "execution_count": null,
   "id": "188153f9",
   "metadata": {},
   "outputs": [],
   "source": []
  }
 ],
 "metadata": {
  "kernelspec": {
   "display_name": "Python 3",
   "language": "python",
   "name": "python3"
  },
  "language_info": {
   "codemirror_mode": {
    "name": "ipython",
    "version": 3
   },
   "file_extension": ".py",
   "mimetype": "text/x-python",
   "name": "python",
   "nbconvert_exporter": "python",
   "pygments_lexer": "ipython3",
   "version": "3.12.4"
  }
 },
 "nbformat": 4,
 "nbformat_minor": 5
}
