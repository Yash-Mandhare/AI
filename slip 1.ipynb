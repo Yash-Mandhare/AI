{
 "cells": [
  {
   "cell_type": "code",
   "execution_count": 1,
   "id": "dd14b180",
   "metadata": {},
   "outputs": [
    {
     "name": "stdout",
     "output_type": "stream",
     "text": [
      "Iteration 1: x = 0.2580477365711187, f(x) = 0.9656023119349972\n",
      "Iteration 2: x = 0.2680477365711187, f(x) = 1.0003413572035749\n",
      "Iteration 3: x = 0.2780477365711187, f(x) = 1.0348804024721525\n",
      "Iteration 4: x = 0.2880477365711187, f(x) = 1.0692194477407302\n",
      "Iteration 5: x = 0.2980477365711187, f(x) = 1.1033584930093079\n",
      "Iteration 6: x = 0.3080477365711187, f(x) = 1.1372975382778856\n",
      "Iteration 7: x = 0.31804773657111873, f(x) = 1.1710365835464631\n",
      "Iteration 8: x = 0.32804773657111874, f(x) = 1.2045756288150409\n",
      "Iteration 9: x = 0.33804773657111875, f(x) = 1.2379146740836184\n",
      "Iteration 10: x = 0.34804773657111876, f(x) = 1.2710537193521962\n",
      "\n",
      "Optimal point: x = 0.34804773657111876\n",
      "Maximum value: f(x) = 1.2710537193521962\n"
     ]
    }
   ],
   "source": [
    "# Q1 Python program that demonstrates the hill climbing algorithm to find the maximum of a\n",
    "# mathematical function.(For example f(x) = -x^2 + 4x)\n",
    "import random\n",
    "\n",
    "# Define the function f(x) = -x^2 + 4x\n",
    "def f(x):\n",
    "    return -x**2 + 4*x\n",
    "\n",
    "# Hill Climbing Algorithm\n",
    "def hill_climbing(starting_point, step_size, max_iterations):\n",
    "    current_point = starting_point\n",
    "    current_value = f(current_point)\n",
    "\n",
    "    for iteration in range(max_iterations):\n",
    "        # Explore neighbors: Check the value of f(x) at nearby points\n",
    "        next_point = current_point + step_size if f(current_point + step_size) > current_value else current_point - step_size\n",
    "        next_value = f(next_point)\n",
    "        \n",
    "        if next_value > current_value:\n",
    "            # Move to the better point\n",
    "            current_point = next_point\n",
    "            current_value = next_value\n",
    "        else:\n",
    "            # Stop if no improvement can be made\n",
    "            break\n",
    "\n",
    "        print(f\"Iteration {iteration + 1}: x = {current_point}, f(x) = {current_value}\")\n",
    "\n",
    "    return current_point, current_value\n",
    "\n",
    "# Parameters for hill climbing\n",
    "starting_point = random.uniform(0, 5)  # Random starting point between 0 and 5\n",
    "step_size = 0.01                        # Small step size for climbing\n",
    "max_iterations = 10                   # Maximum number of iterations\n",
    "\n",
    "# Run hill climbing algorithm\n",
    "optimal_x, optimal_value = hill_climbing(starting_point, step_size, max_iterations)\n",
    "\n",
    "print(f\"\\nOptimal point: x = {optimal_x}\")\n",
    "print(f\"Maximum value: f(x) = {optimal_value}\")\n"
   ]
  },
  {
   "cell_type": "code",
   "execution_count": 4,
   "id": "35cccd19",
   "metadata": {},
   "outputs": [
    {
     "name": "stdout",
     "output_type": "stream",
     "text": [
      "Visited: 1\n",
      "Visited: 2\n",
      "Visited: 4\n",
      "Visited: 8\n",
      "\n",
      "DFS path to reach node 8: [1, 2, 4, 8]\n"
     ]
    }
   ],
   "source": [
    "# Write a Python program to implement Depth First Search algorithm. Refer the following graph\n",
    "# as an Input for the program. [Initial node=1,Goal node=8]\n",
    "\n",
    "# Depth First Search (DFS) implementation\n",
    "def dfs(graph, start, goal, visited=None, path=None):\n",
    "    if visited is None:\n",
    "        visited = set()  # Set to keep track of visited nodes\n",
    "    if path is None:\n",
    "        path = []  # List to maintain the path\n",
    "    \n",
    "    visited.add(start)\n",
    "    path.append(start)\n",
    "\n",
    "    print(f\"Visited: {start}\")\n",
    "\n",
    "    # If goal is reached, return the current path\n",
    "    if start == goal:\n",
    "        return path\n",
    "\n",
    "    # Recur for all the vertices adjacent to this vertex\n",
    "    for neighbor in graph[start]:\n",
    "        if neighbor not in visited:\n",
    "            result = dfs(graph, neighbor, goal, visited, path)\n",
    "            if result:\n",
    "                return result\n",
    "\n",
    "    # If no path found, backtrack\n",
    "    path.pop()\n",
    "    return None\n",
    "\n",
    "# Graph input using adjacency list representation\n",
    "graph = {\n",
    "    1: [2, 3],\n",
    "    2: [1, 4, 5],\n",
    "    3: [1, 6, 7],\n",
    "    4: [2, 8],\n",
    "    5: [2, 8],\n",
    "    6: [3, 8],\n",
    "    7: [3, 8],\n",
    "    8: [4, 5, 6, 7]\n",
    "}\n",
    "\n",
    "# Input: Initial node (1), Goal node (8)\n",
    "start_node = 1\n",
    "goal_node = 8\n",
    "\n",
    "# Perform DFS\n",
    "dfs_path = dfs(graph, start_node, goal_node)\n",
    "\n",
    "print(f\"\\nDFS path to reach node {goal_node}: {dfs_path}\")\n",
    "\n"
   ]
  },
  {
   "cell_type": "code",
   "execution_count": null,
   "id": "ada2d217",
   "metadata": {},
   "outputs": [],
   "source": []
  }
 ],
 "metadata": {
  "kernelspec": {
   "display_name": "Python 3",
   "language": "python",
   "name": "python3"
  },
  "language_info": {
   "codemirror_mode": {
    "name": "ipython",
    "version": 3
   },
   "file_extension": ".py",
   "mimetype": "text/x-python",
   "name": "python",
   "nbconvert_exporter": "python",
   "pygments_lexer": "ipython3",
   "version": "3.12.4"
  }
 },
 "nbformat": 4,
 "nbformat_minor": 5
}
