{
 "cells": [
  {
   "cell_type": "code",
   "execution_count": 1,
   "metadata": {},
   "outputs": [
    {
     "name": "stdout",
     "output_type": "stream",
     "text": [
      "Optimal value: 6\n"
     ]
    }
   ],
   "source": [
    "# Write a Program to Implement Alpha-Beta Pruning using Python\n",
    "\n",
    "class Node:\n",
    "    def __init__(self, value=None, children=None):\n",
    "        self.value = value\n",
    "        self.children = children if children is not None else []\n",
    "\n",
    "def alpha_beta(node, depth, alpha, beta, maximizing_player):\n",
    "    if depth == 0 or not node.children:\n",
    "        return node.value\n",
    "\n",
    "    if maximizing_player:\n",
    "        max_eval = float('-inf')\n",
    "        for child in node.children:\n",
    "            eval = alpha_beta(child, depth - 1, alpha, beta, False)\n",
    "            max_eval = max(max_eval, eval)\n",
    "            alpha = max(alpha, eval)\n",
    "            if beta <= alpha:\n",
    "                break  # Beta cut-off\n",
    "        return max_eval\n",
    "    else:\n",
    "        min_eval = float('inf')\n",
    "        for child in node.children:\n",
    "            eval = alpha_beta(child, depth - 1, alpha, beta, True)\n",
    "            min_eval = min(min_eval, eval)\n",
    "            beta = min(beta, eval)\n",
    "            if beta <= alpha:\n",
    "                break  # Alpha cut-off\n",
    "        return min_eval\n",
    "\n",
    "def main():\n",
    "    # Create a simple game tree\n",
    "    # The following tree represents a simple structure where leaf nodes have values\n",
    "    root = Node(children=[\n",
    "        Node(children=[\n",
    "            Node(value=3), Node(value=5)\n",
    "        ]),\n",
    "        Node(children=[\n",
    "            Node(value=6), Node(value=9)\n",
    "        ]),\n",
    "        Node(children=[\n",
    "            Node(value=1), Node(value=2)\n",
    "        ])\n",
    "    ])\n",
    "\n",
    "    # Define the depth of the tree\n",
    "    depth = 3\n",
    "\n",
    "    # Call the alpha_beta function\n",
    "    optimal_value = alpha_beta(root, depth, float('-inf'), float('inf'), True)\n",
    "    print(f'Optimal value: {optimal_value}')\n",
    "\n",
    "if __name__ == \"__main__\":\n",
    "    main()\n"
   ]
  },
  {
   "cell_type": "code",
   "execution_count": null,
   "metadata": {},
   "outputs": [
    {
     "name": "stdout",
     "output_type": "stream",
     "text": [
      "Welcome to the Simple Chatbot! Type 'exit' to end the conversation.\n",
      "Chatbot: Hello! How can I help you today?\n"
     ]
    }
   ],
   "source": [
    "# Write a Python program to implement Simple Chatbot.\n",
    "\n",
    "import random\n",
    "\n",
    "# Simple chatbot responses\n",
    "responses = {\n",
    "    \"greeting\": [\"Hello! How can I help you today?\", \"Hi there! What can I do for you?\", \"Greetings! How may I assist you?\"],\n",
    "    \"weather\": [\"I'm not sure about the weather, but it's always sunny in my world!\", \"I can't check the weather, but I hope it's nice outside!\", \"Weather? I prefer to talk about something else!\"],\n",
    "    \"farewell\": [\"Goodbye! Have a great day!\", \"See you later! Take care!\", \"Farewell! Hope to chat with you again!\"],\n",
    "    \"unknown\": [\"I'm sorry, I don't understand that.\", \"Could you please rephrase?\", \"I'm not sure how to respond to that.\"]\n",
    "}\n",
    "\n",
    "# Function to respond based on user input\n",
    "def get_response(user_input):\n",
    "    user_input = user_input.lower()\n",
    "    \n",
    "    if any(greet in user_input for greet in [\"hi\", \"hello\", \"hey\"]):\n",
    "        return random.choice(responses[\"greeting\"])\n",
    "    elif \"weather\" in user_input:\n",
    "        return random.choice(responses[\"weather\"])\n",
    "    elif any(farewell in user_input for farewell in [\"bye\", \"goodbye\", \"see you\"]):\n",
    "        return random.choice(responses[\"farewell\"])\n",
    "    else:\n",
    "        return random.choice(responses[\"unknown\"])\n",
    "\n",
    "# Main function to run the chatbot\n",
    "def main():\n",
    "    print(\"Welcome to the Simple Chatbot! Type 'exit' to end the conversation.\")\n",
    "    \n",
    "    while True:\n",
    "        user_input = input(\"You: \")\n",
    "        \n",
    "        if user_input.lower() == \"exit\":\n",
    "            print(\"Chatbot: Goodbye! Have a great day!\")\n",
    "            break\n",
    "        \n",
    "        response = get_response(user_input)\n",
    "        print(f\"Chatbot: {response}\")\n",
    "\n",
    "if __name__ == \"__main__\":\n",
    "    main()\n"
   ]
  },
  {
   "cell_type": "code",
   "execution_count": null,
   "metadata": {},
   "outputs": [],
   "source": []
  }
 ],
 "metadata": {
  "kernelspec": {
   "display_name": "Python 3",
   "language": "python",
   "name": "python3"
  },
  "language_info": {
   "codemirror_mode": {
    "name": "ipython",
    "version": 3
   },
   "file_extension": ".py",
   "mimetype": "text/x-python",
   "name": "python",
   "nbconvert_exporter": "python",
   "pygments_lexer": "ipython3",
   "version": "3.12.4"
  }
 },
 "nbformat": 4,
 "nbformat_minor": 2
}
